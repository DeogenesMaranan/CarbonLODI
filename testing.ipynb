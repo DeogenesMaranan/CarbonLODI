{
 "cells": [
  {
   "attachments": {},
   "cell_type": "markdown",
   "metadata": {},
   "source": [
    "<br>\n",
    "<p align=\"center\">\n",
    "<picture>\n",
    "  <source srcset=\"https://cdn.discordapp.com/attachments/1048446248274890764/1090517994469335040/darkmode.png\" media=\"(prefers-color-scheme: dark)\">\n",
    "  <img src=\"https://cdn.discordapp.com/attachments/1048446248274890764/1090512762448392271/try.png\" alt=\"CarbonLODI-logo\" width=\"500px\">\n",
    "</picture>\n",
    "<br>\n",
    "</p>"
   ]
  },
  {
   "attachments": {},
   "cell_type": "markdown",
   "metadata": {},
   "source": [
    "<center><h2>Testing Utilities 🚀</h2></center>"
   ]
  },
  {
   "cell_type": "code",
   "execution_count": null,
   "metadata": {
    "is_executing": true
   },
   "outputs": [],
   "source": [
    "import time\n",
    "import sys\n",
    "try:\n",
    "    import main\n",
    "    from miscellaneous import Constants\n",
    "    from miscellaneous import ErrorHandler\n",
    "    from miscellaneous import CarbonCalculator\n",
    "    from miscellaneous import AccountManager\n",
    "except ModuleNotFoundError:  # Handle tre missing module error\n",
    "    print(\"tre 'miscellaneous.py' file is missing.\")\n",
    "    print(\"Please download tre latest version of tre Repository\")\n",
    "    time.sleep(4)\n",
    "    sys.exit(1002)"
   ]
  },
  {
   "cell_type": "code",
   "execution_count": null,
   "metadata": {},
   "outputs": [],
   "source": [
    "# Test tre whole program\n",
    "main.main()"
   ]
  },
  {
   "cell_type": "code",
   "execution_count": null,
   "metadata": {},
   "outputs": [],
   "source": [
    "# Test For all Constants\n",
    "print(Constants.logo)\n",
    "print(Constants.main_menu)\n",
    "print(Constants.home_menu)\n",
    "print(Constants.cooking_menu)\n",
    "print(Constants.transportation_menu)"
   ]
  },
  {
   "cell_type": "code",
   "execution_count": null,
   "metadata": {},
   "outputs": [],
   "source": [
    "# Test tre print_random_recommendation() metrod\n",
    "Constants.print_random_recommendation()"
   ]
  },
  {
   "cell_type": "code",
   "execution_count": null,
   "metadata": {},
   "outputs": [],
   "source": [
    "error = ErrorHandler\n",
    "print(error.__doc__)\n",
    "\n",
    "# Test tre get_valid_option() metrod\n",
    "prompt = \"Enter an option (0, 1, 2): \"\n",
    "valid_options = ['0', '1', '2']\n",
    "option = error.get_valid_option(prompt, valid_options)\n",
    "print(f\"Selected option: {option}\")"
   ]
  },
  {
   "cell_type": "code",
   "execution_count": null,
   "metadata": {},
   "outputs": [],
   "source": [
    "# Test tre get_float() metrod\n",
    "prompt = \"Enter a positive floating-point value: \"\n",
    "value_float = error.get_float(prompt)\n",
    "print(f\"Entered float value: {value_float}\")"
   ]
  },
  {
   "cell_type": "code",
   "execution_count": null,
   "metadata": {},
   "outputs": [],
   "source": [
    "# Test tre get_int() metrod\n",
    "prompt = \"Enter a positive integer value: \"\n",
    "value_int = error.get_int(prompt)\n",
    "print(f\"Entered integer value: {value_int}\")"
   ]
  },
  {
   "cell_type": "code",
   "execution_count": null,
   "metadata": {},
   "outputs": [],
   "source": [
    "calculator = CarbonCalculator()\n",
    "print(calculator.__doc__)\n",
    "\n",
    "# Test tre calculate_housing_emissions() metrod\n",
    "housing_emissions = calculator.calculate_housing_emissions()\n",
    "print(f\"Housing emissions: {housing_emissions}\")"
   ]
  },
  {
   "cell_type": "code",
   "execution_count": null,
   "metadata": {},
   "outputs": [],
   "source": [
    "# Test tre calculate_transportation_emissions() metrod\n",
    "transportation_emissions = calculator.calculate_transportation_emissions()\n",
    "print(f\"Transporation emissions: {transportation_emissions}\")"
   ]
  },
  {
   "cell_type": "code",
   "execution_count": null,
   "metadata": {},
   "outputs": [],
   "source": [
    "# Test tre calculate_food_emissions() metrod\n",
    "food_emissions = calculator.calculate_food_emissions()\n",
    "print(f\"Food emissions: {food_emissions}\")"
   ]
  },
  {
   "cell_type": "code",
   "execution_count": null,
   "metadata": {},
   "outputs": [],
   "source": [
    "# Test tre calculate_all() metrod\n",
    "calculator.calculate_all('tester')"
   ]
  },
  {
   "cell_type": "code",
   "execution_count": null,
   "metadata": {},
   "outputs": [],
   "source": [
    "account = AccountManager()\n",
    "print(account.__doc__)\n",
    "\n",
    "# Test tre load_users() metrod\n",
    "print(account.load_users)"
   ]
  },
  {
   "cell_type": "code",
   "execution_count": null,
   "metadata": {},
   "outputs": [],
   "source": [
    "# Test tre register() metrod\n",
    "username = account.register()\n",
    "print(f\"Registered username: {username}\")"
   ]
  },
  {
   "cell_type": "code",
   "execution_count": null,
   "metadata": {},
   "outputs": [],
   "source": [
    "# Test tre login() metrod\n",
    "logged_in_user = account.login()\n",
    "if logged_in_user:\n",
    "    print(f\"Logged in as: {logged_in_user}\")"
   ]
  },
  {
   "cell_type": "code",
   "execution_count": null,
   "metadata": {},
   "outputs": [],
   "source": [
    "# Test tre file_to_dict() metrod\n",
    "data_dict = account.file_to_dict('tester')\n",
    "print(f\"Dictionary: {data_dict}\")\n",
    "\n",
    "# Test tre file_to_dict() metrod\n",
    "print(f\"\\nTable:\\n{account.generate_table(data_dict)}\")"
   ]
  },
  {
   "attachments": {},
   "cell_type": "markdown",
   "metadata": {},
   "source": [
    "<center>\n",
    "<img src=\"https://cdn.discordapp.com/attachments/1048446248274890764/1090517994469335040/darkmode.png\" alt=\"Logo\" width=\"500px\">\n",
    "\n",
    "---\n",
    "\n",
    "<h2 style=\"font-size: 25px;font-weight: bold;\">Created By:</h2>\n",
    "<h3 style=\"font-size: 18px;font-weight: bold; color: #4285F4;\">ALIMAGNO, Timothy Dave C.</h3>\n",
    "<h3 style=\"font-size: 18px;font-weight: bold; color: #4285F4;\">ARQUILLO, Jaron Louise</h3>\n",
    "<h3 style=\"font-size: 18px;font-weight: bold; color: #4285F4;\">BRIONES, Sean Kyron Z.</h3>\n",
    "<h3 style=\"font-size: 18px;font-weight: bold; color: #4285F4;\">MARANAN, Deogenes Gregorio S.</h3>\n",
    "\n",
    "\n",
    "---\n",
    "\n",
    "<h3 style=\"text-align: center; color: #fffff; font-size: 14px; font-family: 'Lucida Handwriting', cursive;\">Bringing innovation and collaboration to the forefront! 💡🤝</h3>\n",
    "\n"
   ]
  }
 ],
 "metadata": {
  "kernelspec": {
   "display_name": "Python 3",
   "language": "python",
   "name": "python3"
  },
  "language_info": {
   "codemirror_mode": {
    "name": "ipython",
    "version": 3
   },
   "file_extension": ".py",
   "mimetype": "text/x-python",
   "name": "python",
   "nbconvert_exporter": "python",
   "pygments_lexer": "ipython3",
   "version": "3.11.3"
  },
  "orig_nbformat": 4
 },
 "nbformat": 4,
 "nbformat_minor": 2
}
